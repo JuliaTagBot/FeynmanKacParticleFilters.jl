{
 "cells": [
  {
   "cell_type": "code",
   "execution_count": 1,
   "metadata": {},
   "outputs": [
    {
     "name": "stderr",
     "output_type": "stream",
     "text": [
      "┌ Warning: RCall.jl: Loading tidyverse: ggplot2\n",
      "│ Loading tidyverse: tibble\n",
      "│ Loading tidyverse: tidyr\n",
      "│ Loading tidyverse: readr\n",
      "│ Loading tidyverse: purrr\n",
      "│ Loading tidyverse: dplyr\n",
      "│ Conflicts with tidy packages ---------------------------------------------------\n",
      "│ filter(): dplyr, stats\n",
      "│ lag():    dplyr, stats\n",
      "└ @ RCall /home/guillaume/.julia/packages/RCall/RPlFw/src/io.jl:110\n",
      "┌ Warning: RCall.jl: Loading required package: MASS\n",
      "│ \n",
      "│ Attaching package: ‘MASS’\n",
      "│ \n",
      "│ The following object is masked from ‘package:dplyr’:\n",
      "│ \n",
      "│     select\n",
      "│ \n",
      "│ Loading required package: stats4\n",
      "│ Loading required package: fda\n",
      "│ Loading required package: splines\n",
      "│ Loading required package: Matrix\n",
      "│ \n",
      "│ Attaching package: ‘Matrix’\n",
      "│ \n",
      "│ The following object is masked from ‘package:tidyr’:\n",
      "│ \n",
      "│     expand\n",
      "│ \n",
      "│ \n",
      "│ Attaching package: ‘fda’\n",
      "│ \n",
      "│ The following object is masked from ‘package:graphics’:\n",
      "│ \n",
      "│     matplot\n",
      "│ \n",
      "│ Loading required package: zoo\n",
      "│ \n",
      "│ Attaching package: ‘zoo’\n",
      "│ \n",
      "│ The following objects are masked from ‘package:base’:\n",
      "│ \n",
      "│     as.Date, as.Date.numeric\n",
      "│ \n",
      "│ sde 2.0.15\n",
      "│ Companion package to the book\n",
      "│ ‘Simulation and Inference for Stochastic Differential Equations With R Examples’\n",
      "│ Iacus, Springer NY, (2008)\n",
      "│ To check the errata corrige of the book, type vignette(\"sde.errata\")\n",
      "└ @ RCall /home/guillaume/.julia/packages/RCall/RPlFw/src/io.jl:110\n"
     ]
    },
    {
     "data": {
      "text/plain": [
       "RObject{StrSxp}\n",
       " [1] \"sde\"       \"zoo\"       \"fda\"       \"Matrix\"    \"splines\"   \"stats4\"   \n",
       " [7] \"MASS\"      \"dplyr\"     \"purrr\"     \"readr\"     \"tidyr\"     \"tibble\"   \n",
       "[13] \"ggplot2\"   \"tidyverse\" \"stats\"     \"graphics\"  \"grDevices\" \"utils\"    \n",
       "[19] \"datasets\"  \"methods\"   \"base\"     \n"
      ]
     },
     "execution_count": 1,
     "metadata": {},
     "output_type": "execute_result"
    }
   ],
   "source": [
    "using Revise, FeynmanKacParticleFilters, RCall, SpecialFunctions\n",
    "R\"library(tidyverse)\"\n",
    "R\"library(sde)\""
   ]
  },
  {
   "cell_type": "code",
   "execution_count": 41,
   "metadata": {},
   "outputs": [
    {
     "data": {
      "text/plain": [
       "100-element Array{Float64,1}:\n",
       " 0.007163234344893173  \n",
       " 0.018104520306782824  \n",
       " 0.03457045160647595   \n",
       " 0.052537951256367     \n",
       " 0.06612868532266974   \n",
       " 0.0711109250139912    \n",
       " 0.06695563165965313   \n",
       " 0.056300636100147225  \n",
       " 0.04296174638599441   \n",
       " 0.030145206824317126  \n",
       " 0.01966406385199421   \n",
       " 0.012034390825926868  \n",
       " 0.0069634855268940294 \n",
       " ⋮                     \n",
       " 2.1978124080002452e-35\n",
       " 7.808865946315042e-36 \n",
       " 2.7768313107401732e-36\n",
       " 9.882809624683954e-37 \n",
       " 3.5203483863709774e-37\n",
       " 1.2550750839257367e-37\n",
       " 4.4785443683707957e-38\n",
       " 1.5995254018084182e-38\n",
       " 5.7178952564817325e-39\n",
       " 2.0458580294692778e-39\n",
       " 7.3267646327642656e-40\n",
       " 2.626330718354162e-40 "
      ]
     },
     "execution_count": 41,
     "metadata": {},
     "output_type": "execute_result"
    }
   ],
   "source": [
    "const x0, Dt, θ1, θ2, θ3 = 1.5, 1., 1., 2., 0.5\n",
    "const δ, γ, σ = 4*θ1/θ3^2, θ2/2, θ3/2\n",
    "smpl = FeynmanKacParticleFilters.rCIR(10^4, Dt, x0, δ, γ, σ)\n",
    "grid = range(0.1, stop = 1, length = 100)\n",
    "# curv = FeynmanKacParticleFilters.CIR_transition_density.(grid, x0, Dt, δ, γ, σ)\n",
    "curv = FeynmanKacParticleFilters.CIR_transition_density_param_iacus.(grid, x0, Dt, δ, γ, σ)"
   ]
  },
  {
   "cell_type": "code",
   "execution_count": 42,
   "metadata": {
    "scrolled": false
   },
   "outputs": [
    {
     "data": {
      "image/png": "[encoded data removed]"
     },
     "metadata": {},
     "output_type": "display_data"
    },
    {
     "data": {
      "text/plain": [
       "RObject{VecSxp}\n"
      ]
     },
     "execution_count": 42,
     "metadata": {},
     "output_type": "execute_result"
    },
    {
     "name": "stderr",
     "output_type": "stream",
     "text": [
      "┌ Warning: RCall.jl: `stat_bin()` using `bins = 30`. Pick better value with `binwidth`.\n",
      "└ @ RCall /home/guillaume/.julia/packages/RCall/RPlFw/src/io.jl:110\n"
     ]
    }
   ],
   "source": [
    "R\"tibble(smpl = $smpl) %>%\n",
    "    ggplot(aes(x = smpl, y = ..density..)) + \n",
    "    geom_histogram() + \n",
    "    geom_line(data = tibble(x = $grid, y = $curv), aes(x = x, y = y))\""
   ]
  },
  {
   "cell_type": "markdown",
   "metadata": {},
   "source": [
    "# With Iacus param"
   ]
  },
  {
   "cell_type": "code",
   "execution_count": 34,
   "metadata": {},
   "outputs": [
    {
     "data": {
      "text/plain": [
       "dCIR_iacus (generic function with 1 method)"
      ]
     },
     "execution_count": 34,
     "metadata": {},
     "output_type": "execute_result"
    }
   ],
   "source": [
    "function rcCIR_iacus(n::Integer, Dt::Real, x0::Real, θ1, θ2, θ3)\n",
    "    if n == 1\n",
    "        return R\"rcCIR(n=$n, Dt=$Dt, x0=$x0, theta=c($θ1,$θ2,$θ3))\" |> Float64\n",
    "    else\n",
    "        return R\"rcCIR(n=$n, Dt=$Dt, x0=$x0, theta=c($θ1,$θ2,$θ3))\" |> x -> Float64.(x)\n",
    "    end\n",
    "end\n",
    "\n",
    "function dCIR_iacus(x::Real, Dt::Real, x0::Real, θ1, θ2, θ3)\n",
    "    return R\"dcCIR(x=$x, Dt=$Dt, x0=$x0, theta=c($θ1,$θ2,$θ3))\" |> x -> convert(Float64, x)\n",
    "end"
   ]
  },
  {
   "cell_type": "code",
   "execution_count": 35,
   "metadata": {},
   "outputs": [
    {
     "data": {
      "text/plain": [
       "0.041036522966283705"
      ]
     },
     "execution_count": 35,
     "metadata": {},
     "output_type": "execute_result"
    }
   ],
   "source": [
    "dCIR_iacus(0.1, Dt, x0, θ1, θ2, θ3)"
   ]
  },
  {
   "cell_type": "code",
   "execution_count": 36,
   "metadata": {},
   "outputs": [
    {
     "data": {
      "text/plain": [
       "100-element Array{Float64,1}:\n",
       " 0.041036522966283705  \n",
       " 0.05286206639698151   \n",
       " 0.0753526259623438    \n",
       " 0.11775603549682866   \n",
       " 0.18906632508978594   \n",
       " 0.2955672954452774    \n",
       " 0.4390428703342804    \n",
       " 0.6160847067397183    \n",
       " 0.8185181649145246    \n",
       " 1.0346773593769458    \n",
       " 1.2511286760405371    \n",
       " 1.4544464116425184    \n",
       " 1.6327339441092898    \n",
       " ⋮                     \n",
       " 2.3849823480321674e-8 \n",
       " 1.6757996382426534e-8 \n",
       " 1.176008155106341e-8  \n",
       " 8.2425182126757e-9    \n",
       " 5.770063189276001e-9  \n",
       " 4.0344259145656175e-9 \n",
       " 2.81755642625981e-9   \n",
       " 1.965450554434078e-9  \n",
       " 1.3694901636265367e-9 \n",
       " 9.531723552351763e-10 \n",
       " 6.626861374792897e-10 \n",
       " 4.6023139310248224e-10"
      ]
     },
     "execution_count": 36,
     "metadata": {},
     "output_type": "execute_result"
    }
   ],
   "source": [
    "const x0, Dt, θ1, θ2, θ3 = 1.5, 1., 1., 2., 0.5\n",
    "const t = Dt\n",
    "smpl = rcCIR_iacus(10^4, Dt, x0, θ1, θ2, θ3)\n",
    "grid = range(0.1, stop = 3, length = 100)\n",
    "# curv = FeynmanKacParticleFilters.CIR_transition_density_param_iacus.(grid, x0, Dt, θ1, θ2, θ3)\n",
    "curv2 = dCIR_iacus.(grid, Dt, x0, θ1, θ2, θ3)\n"
   ]
  },
  {
   "cell_type": "code",
   "execution_count": 37,
   "metadata": {},
   "outputs": [
    {
     "data": {
      "image/png": "[encoded data removed]"
     },
     "metadata": {},
     "output_type": "display_data"
    },
    {
     "data": {
      "text/plain": [
       "RObject{VecSxp}\n"
      ]
     },
     "execution_count": 37,
     "metadata": {},
     "output_type": "execute_result"
    },
    {
     "name": "stderr",
     "output_type": "stream",
     "text": [
      "┌ Warning: RCall.jl: `stat_bin()` using `bins = 30`. Pick better value with `binwidth`.\n",
      "└ @ RCall /home/guillaume/.julia/packages/RCall/RPlFw/src/io.jl:110\n"
     ]
    }
   ],
   "source": [
    "R\"tibble(smpl = $smpl) %>%\n",
    "    ggplot(aes(x = smpl, y = ..density..)) + \n",
    "    geom_histogram() + \n",
    "    geom_line(data = tibble(x = $grid, y = $curv2), aes(x = x, y = y), colour = 'red') + \n",
    "    theme_minimal()\""
   ]
  },
  {
   "cell_type": "code",
   "execution_count": 7,
   "metadata": {},
   "outputs": [
    {
     "data": {
      "text/plain": [
       "18.50428228399465"
      ]
     },
     "execution_count": 7,
     "metadata": {},
     "output_type": "execute_result"
    }
   ],
   "source": [
    "c = FeynmanKacParticleFilters.c_iacus(θ2, θ3, t)"
   ]
  },
  {
   "cell_type": "code",
   "execution_count": 8,
   "metadata": {},
   "outputs": [
    {
     "data": {
      "text/plain": [
       "3.7564234259919758"
      ]
     },
     "execution_count": 8,
     "metadata": {},
     "output_type": "execute_result"
    }
   ],
   "source": [
    "u = FeynmanKacParticleFilters.u_iacus(c, x0, θ2, t)"
   ]
  },
  {
   "cell_type": "code",
   "execution_count": 9,
   "metadata": {},
   "outputs": [
    {
     "data": {
      "text/plain": [
       "74.0171291359786"
      ]
     },
     "execution_count": 9,
     "metadata": {},
     "output_type": "execute_result"
    }
   ],
   "source": [
    "v = FeynmanKacParticleFilters.v_iacus(c, 4)"
   ]
  },
  {
   "cell_type": "code",
   "execution_count": 10,
   "metadata": {},
   "outputs": [
    {
     "data": {
      "text/plain": [
       "7.0"
      ]
     },
     "execution_count": 10,
     "metadata": {},
     "output_type": "execute_result"
    }
   ],
   "source": [
    "q = FeynmanKacParticleFilters.q_iacus(θ1, θ3)"
   ]
  },
  {
   "cell_type": "code",
   "execution_count": 11,
   "metadata": {},
   "outputs": [
    {
     "data": {
      "text/plain": [
       "1.0036726159116045e13"
      ]
     },
     "execution_count": 11,
     "metadata": {},
     "output_type": "execute_result"
    }
   ],
   "source": [
    "besseli(q, 2*sqrt(u*v))"
   ]
  },
  {
   "cell_type": "code",
   "execution_count": 12,
   "metadata": {},
   "outputs": [
    {
     "data": {
      "text/plain": [
       "1.6725352680561023e-34"
      ]
     },
     "execution_count": 12,
     "metadata": {},
     "output_type": "execute_result"
    }
   ],
   "source": [
    "exp(-(u+v))"
   ]
  },
  {
   "cell_type": "code",
   "execution_count": 13,
   "metadata": {},
   "outputs": [
    {
     "data": {
      "text/plain": [
       "2.944747513372962e-5"
      ]
     },
     "execution_count": 13,
     "metadata": {},
     "output_type": "execute_result"
    }
   ],
   "source": [
    "(u/v)^(q/2)"
   ]
  },
  {
   "cell_type": "code",
   "execution_count": 27,
   "metadata": {},
   "outputs": [
    {
     "data": {
      "text/plain": [
       "RObject{RealSxp}\n",
       "  [1] 4.103652e-02 5.286207e-02 7.535263e-02 1.177560e-01 1.890663e-01\n",
       "  [6] 2.955673e-01 4.390429e-01 6.160847e-01 8.185182e-01 1.034677e+00\n",
       " [11] 1.251129e+00 1.454446e+00 1.632734e+00 1.776708e+00 1.880285e+00\n",
       " [16] 1.940700e+00 1.958252e+00 1.935793e+00 1.878079e+00 1.791091e+00\n",
       " [21] 1.681397e+00 1.555607e+00 1.419954e+00 1.280000e+00 1.140456e+00\n",
       " [26] 1.005109e+00 8.768294e-01 7.576267e-01 6.487540e-01 5.508249e-01\n",
       " [31] 4.639385e-01 3.877999e-01 3.218305e-01 2.652633e-01 2.172217e-01\n",
       " [36] 1.767829e-01 1.430253e-01 1.150634e-01 9.207066e-02 7.329344e-02\n",
       " [41] 5.805807e-02 4.577217e-02 3.592228e-02 2.806899e-02 2.184050e-02\n",
       " [46] 1.692541e-02 1.306534e-02 1.004773e-02 7.699053e-03 5.878728e-03\n",
       " [51] 4.473598e-03 3.393177e-03 2.565534e-03 1.933813e-03 1.453310e-03\n",
       " [56] 1.089050e-03 8.138071e-04 6.064772e-04 4.507762e-04 3.341901e-04\n",
       " [61] 2.471402e-04 1.823224e-04 1.341875e-04 9.853408e-05 7.219207e-05\n",
       " [66] 5.277718e-05 3.850174e-05 2.802949e-05 2.036445e-05 1.476638e-05\n",
       " [71] 1.068661e-05 7.719510e-06 5.565991e-06 4.006051e-06 2.878255e-06\n",
       " [76] 2.064418e-06 1.478217e-06 1.056736e-06 7.542193e-07 5.374606e-07\n",
       " [81] 3.824086e-07 2.716779e-07 1.927258e-07 1.365204e-07 9.656934e-08\n",
       " [86] 6.821461e-08 4.811978e-08 3.389918e-08 2.384982e-08 1.675800e-08\n",
       " [91] 1.176008e-08 8.242518e-09 5.770063e-09 4.034426e-09 2.817556e-09\n",
       " [96] 1.965451e-09 1.369490e-09 9.531724e-10 6.626861e-10 4.602314e-10\n"
      ]
     },
     "execution_count": 27,
     "metadata": {},
     "output_type": "execute_result"
    }
   ],
   "source": [
    "R\"theta = c($θ1,$θ2,$θ3)\n",
    "Dt = $Dt\n",
    "x0 = $x0\n",
    "smpl = rcCIR(n = 10^4, Dt = Dt, x0 = x0, theta = theta)\n",
    "grid = seq(0.1, 3, length.out = 100)\n",
    "curv = dcCIR(x = grid, Dt = Dt, x0 = x0, theta = theta)\""
   ]
  }
 ],
 "metadata": {
  "@webio": {
   "lastCommId": "85123ed7971746518735ed2e5fc84f30",
   "lastKernelId": "0494b134-7a4e-47f3-a475-382899d5e298"
  },
  "kernelspec": {
   "display_name": "Julia 1.0.3",
   "language": "julia",
   "name": "julia-1.0"
  },
  "language_info": {
   "file_extension": ".jl",
   "mimetype": "application/julia",
   "name": "julia",
   "version": "1.0.3"
  }
 },
 "nbformat": 4,
 "nbformat_minor": 2
}
